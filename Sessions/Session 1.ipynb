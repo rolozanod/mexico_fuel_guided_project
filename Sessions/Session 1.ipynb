{
 "cells": [
  {
   "cell_type": "markdown",
   "metadata": {
    "id": "_5NOleO6hLLe"
   },
   "source": [
    "# Session 1: Initial setup\n",
    "\n",
    "1. Retrieve project data from GitHub\n",
    "  1. Sessions notebooks\n",
    "  1. Fuel consumption, census and refineries data\n",
    "1. Download Mexico´s location coordinates from INEGI\n",
    "1. Download fuel price data\n",
    "1. Manipulate the data\n",
    "  1. Calculate daily fuel consumption\n",
    "  1. Calculate daily fuel prices\n",
    "  1. Estimate fuel consumption for missing states and estimate seasonality from prices\n",
    "1. Filter and group the important locations by revenue to reduce complexity \n",
    "1. Merge all data into a dataframe"
   ]
  },
  {
   "cell_type": "markdown",
   "metadata": {
    "id": "DwyKLL4Fj2u4"
   },
   "source": [
    "### 1.0 Get files from GitHub"
   ]
  },
  {
   "cell_type": "markdown",
   "metadata": {
    "id": "4QA-i7OYq3Nm"
   },
   "source": [
    "### 1.1 Clone GitHub data"
   ]
  },
  {
   "cell_type": "code",
   "execution_count": null,
   "metadata": {
    "colab": {
     "base_uri": "https://localhost:8080/"
    },
    "executionInfo": {
     "elapsed": 422,
     "status": "ok",
     "timestamp": 1615401266031,
     "user": {
      "displayName": "Rodrigo Lozano",
      "photoUrl": "https://lh3.googleusercontent.com/a-/AOh14GgcJuvFj3auSsaaPeF8RhjeL3moSk-WPyfAXHE9=s64",
      "userId": "01315447927275701703"
     },
     "user_tz": 360
    },
    "id": "b3HPZogChKo-",
    "outputId": "e54de36a-4a1a-41ae-cd90-1e0ba57dab00"
   },
   "outputs": [
    {
     "name": "stdout",
     "output_type": "stream",
     "text": [
      "fatal: destination path 'mexico_fuel_guided_project' already exists and is not an empty directory.\n"
     ]
    }
   ],
   "source": [
    "!git clone https://github.com/rolozanod/mexico_fuel_guided_project.git"
   ]
  },
  {
   "cell_type": "markdown",
   "metadata": {
    "id": "f9O6FuJhj_d8"
   },
   "source": [
    "### 1.2 Unzip `data.zip` file"
   ]
  },
  {
   "cell_type": "code",
   "execution_count": null,
   "metadata": {
    "colab": {
     "base_uri": "https://localhost:8080/"
    },
    "executionInfo": {
     "elapsed": 587882,
     "status": "ok",
     "timestamp": 1615401853502,
     "user": {
      "displayName": "Rodrigo Lozano",
      "photoUrl": "https://lh3.googleusercontent.com/a-/AOh14GgcJuvFj3auSsaaPeF8RhjeL3moSk-WPyfAXHE9=s64",
      "userId": "01315447927275701703"
     },
     "user_tz": 360
    },
    "id": "QSyeaEBLf272",
    "outputId": "bdcd0b84-0320-4b4c-a3e7-e6b9833a148e"
   },
   "outputs": [
    {
     "name": "stdout",
     "output_type": "stream",
     "text": [
      "Archive:  mexico_fuel_guided_project/data.zip\n",
      "replace /content/capacity.csv? [y]es, [n]o, [A]ll, [N]one, [r]ename: A\n",
      "  inflating: /content/capacity.csv   \n",
      "  inflating: /content/demand.csv     \n",
      "  inflating: /content/short_censo2020.csv  \n"
     ]
    }
   ],
   "source": [
    "# Unzip the data.zip file\n",
    "!unzip mexico_fuel_guided_project/data.zip -d /content/"
   ]
  },
  {
   "cell_type": "markdown",
   "metadata": {
    "id": "yU2wuHCEovC_"
   },
   "source": [
    "### 2.0 Download coordinates data from INEGI"
   ]
  },
  {
   "cell_type": "markdown",
   "metadata": {
    "id": "oZbuSDJeq10i"
   },
   "source": [
    "### 2.1 Import packages"
   ]
  },
  {
   "cell_type": "code",
   "execution_count": null,
   "metadata": {
    "colab": {
     "base_uri": "https://localhost:8080/"
    },
    "executionInfo": {
     "elapsed": 590651,
     "status": "ok",
     "timestamp": 1615401856279,
     "user": {
      "displayName": "Rodrigo Lozano",
      "photoUrl": "https://lh3.googleusercontent.com/a-/AOh14GgcJuvFj3auSsaaPeF8RhjeL3moSk-WPyfAXHE9=s64",
      "userId": "01315447927275701703"
     },
     "user_tz": 360
    },
    "id": "CFIpfpIDlV5R",
    "outputId": "73215e28-837d-432a-b589-3cf4a457fd11"
   },
   "outputs": [
    {
     "name": "stdout",
     "output_type": "stream",
     "text": [
      "Requirement already satisfied: geopandas in /usr/local/lib/python3.7/dist-packages (0.9.0)\n",
      "Requirement already satisfied: pyproj>=2.2.0 in /usr/local/lib/python3.7/dist-packages (from geopandas) (3.0.1)\n",
      "Requirement already satisfied: fiona>=1.8 in /usr/local/lib/python3.7/dist-packages (from geopandas) (1.8.18)\n",
      "Requirement already satisfied: pandas>=0.24.0 in /usr/local/lib/python3.7/dist-packages (from geopandas) (1.1.5)\n",
      "Requirement already satisfied: shapely>=1.6 in /usr/local/lib/python3.7/dist-packages (from geopandas) (1.7.1)\n",
      "Requirement already satisfied: certifi in /usr/local/lib/python3.7/dist-packages (from pyproj>=2.2.0->geopandas) (2020.12.5)\n",
      "Requirement already satisfied: click-plugins>=1.0 in /usr/local/lib/python3.7/dist-packages (from fiona>=1.8->geopandas) (1.1.1)\n",
      "Requirement already satisfied: munch in /usr/local/lib/python3.7/dist-packages (from fiona>=1.8->geopandas) (2.5.0)\n",
      "Requirement already satisfied: click<8,>=4.0 in /usr/local/lib/python3.7/dist-packages (from fiona>=1.8->geopandas) (7.1.2)\n",
      "Requirement already satisfied: six>=1.7 in /usr/local/lib/python3.7/dist-packages (from fiona>=1.8->geopandas) (1.15.0)\n",
      "Requirement already satisfied: cligj>=0.5 in /usr/local/lib/python3.7/dist-packages (from fiona>=1.8->geopandas) (0.7.1)\n",
      "Requirement already satisfied: attrs>=17 in /usr/local/lib/python3.7/dist-packages (from fiona>=1.8->geopandas) (20.3.0)\n",
      "Requirement already satisfied: python-dateutil>=2.7.3 in /usr/local/lib/python3.7/dist-packages (from pandas>=0.24.0->geopandas) (2.8.1)\n",
      "Requirement already satisfied: pytz>=2017.2 in /usr/local/lib/python3.7/dist-packages (from pandas>=0.24.0->geopandas) (2018.9)\n",
      "Requirement already satisfied: numpy>=1.15.4 in /usr/local/lib/python3.7/dist-packages (from pandas>=0.24.0->geopandas) (1.19.5)\n"
     ]
    }
   ],
   "source": [
    "import os\n",
    "import requests\n",
    "import zipfile, io\n",
    "from tqdm import tqdm\n",
    "!pip install geopandas\n",
    "import geopandas as gpd\n",
    "import re\n",
    "\n",
    "import pandas as pd\n",
    "import numpy as np"
   ]
  },
  {
   "cell_type": "markdown",
   "metadata": {
    "id": "-poN1HZdrLUN"
   },
   "source": [
    "### 2.2 Download coordinates and process file "
   ]
  },
  {
   "cell_type": "code",
   "execution_count": null,
   "metadata": {
    "colab": {
     "base_uri": "https://localhost:8080/"
    },
    "executionInfo": {
     "elapsed": 605566,
     "status": "ok",
     "timestamp": 1615401871202,
     "user": {
      "displayName": "Rodrigo Lozano",
      "photoUrl": "https://lh3.googleusercontent.com/a-/AOh14GgcJuvFj3auSsaaPeF8RhjeL3moSk-WPyfAXHE9=s64",
      "userId": "01315447927275701703"
     },
     "user_tz": 360
    },
    "id": "hiwRhba7lFk8",
    "outputId": "c45ab538-d039-4e8e-d7c4-c7c9aac8568e"
   },
   "outputs": [
    {
     "name": "stderr",
     "output_type": "stream",
     "text": [
      "/usr/local/lib/python3.7/dist-packages/ipykernel_launcher.py:30: UserWarning: Geometry is in a geographic CRS. Results from 'centroid' are likely incorrect. Use 'GeoSeries.to_crs()' to re-project geometries to a projected CRS before this operation.\n",
      "\n",
      "/usr/local/lib/python3.7/dist-packages/ipykernel_launcher.py:40: UserWarning: Geometry is in a geographic CRS. Results from 'centroid' are likely incorrect. Use 'GeoSeries.to_crs()' to re-project geometries to a projected CRS before this operation.\n",
      "\n",
      "/usr/local/lib/python3.7/dist-packages/ipykernel_launcher.py:41: UserWarning: Geometry is in a geographic CRS. Results from 'centroid' are likely incorrect. Use 'GeoSeries.to_crs()' to re-project geometries to a projected CRS before this operation.\n",
      "\n",
      "/usr/local/lib/python3.7/dist-packages/ipykernel_launcher.py:30: UserWarning: Geometry is in a geographic CRS. Results from 'centroid' are likely incorrect. Use 'GeoSeries.to_crs()' to re-project geometries to a projected CRS before this operation.\n",
      "\n",
      "/usr/local/lib/python3.7/dist-packages/ipykernel_launcher.py:40: UserWarning: Geometry is in a geographic CRS. Results from 'centroid' are likely incorrect. Use 'GeoSeries.to_crs()' to re-project geometries to a projected CRS before this operation.\n",
      "\n",
      "/usr/local/lib/python3.7/dist-packages/ipykernel_launcher.py:41: UserWarning: Geometry is in a geographic CRS. Results from 'centroid' are likely incorrect. Use 'GeoSeries.to_crs()' to re-project geometries to a projected CRS before this operation.\n",
      "\n"
     ]
    }
   ],
   "source": [
    "# https://www.inegi.org.mx/app/biblioteca/ficha.html?upc=889463807469\n",
    "# https://www.inegi.org.mx/temas/mg/#Descargas\n",
    "\n",
    "def process_inegi_shp_request(r, head):\n",
    "  shp_file_path = \"conjunto_de_datos/\"\n",
    "  shp_files_headers = [head]\n",
    "  shp_resources = ['.shp', '.shx', '.cpg', '.dbf', '.prj']\n",
    "  zf = zipfile.ZipFile(io.BytesIO(r.content))\n",
    "  \n",
    "  # Delete current files in path because gpd reads the whole folder\n",
    "  for root, dirs, files in os.walk(shp_file_path):\n",
    "    for file in files:\n",
    "      os.remove(os.path.join(root, file))\n",
    "\n",
    "  # Extract files\n",
    "  for shp_file in shp_files_headers:\n",
    "    for shp_ext in shp_resources:\n",
    "      zf.extract(f'{shp_file_path}{shp_file}{shp_ext}', path='/content/')\n",
    "  \n",
    "  # Read path\n",
    "  coords = gpd.read_file(shp_file_path)\n",
    "\n",
    "  # Delete current files in path because gpd reads the whole folder\n",
    "  for root, dirs, files in os.walk(shp_file_path):\n",
    "    for file in files:\n",
    "      os.remove(os.path.join(root, file))\n",
    "\n",
    "  coords = coords.to_crs(\"wgs84\")\n",
    "  \n",
    "  coords['centroid'] = coords.geometry.centroid\n",
    "\n",
    "  def get_latlon(s):\n",
    "      centroid_re = r\"POINT \\(([+-]\\d+.\\d+) (\\d+.\\d+)\\)\"\n",
    "\n",
    "      lat = float(re.search(centroid_re, s).group(1))\n",
    "      lon = float(re.search(centroid_re, s).group(2))\n",
    "\n",
    "      return lat, lon\n",
    "\n",
    "  coords['lat'] = coords.centroid.apply(lambda r: r.x)\n",
    "  coords['lon'] = coords.centroid.apply(lambda r: r.y)\n",
    "\n",
    "  coords = coords.drop(columns=['geometry', 'centroid'])\n",
    "\n",
    "  return coords\n",
    "\n",
    "try:\n",
    "  coords = process_inegi_shp_request(r, '00mun')\n",
    "  state_coords = process_inegi_shp_request(r, '00ent')\n",
    "except:\n",
    "  geo_zip_url = \"https://www.inegi.org.mx/contenidos/productos/prod_serv/contenidos/espanol/bvinegi/productos/geografia/marcogeo/889463807469/mg_2020_integrado.zip\"\n",
    "  r = requests.get(geo_zip_url)\n",
    "  coords = process_inegi_shp_request(r, '00mun')\n",
    "  state_coords = process_inegi_shp_request(r, '00ent')\n",
    "\n",
    "coords = pd.merge(\n",
    "    left=state_coords[[\"CVE_ENT\", \"NOMGEO\"]].rename(columns={\"NOMGEO\": \"STATE\"}),\n",
    "    right=coords.rename(columns={\"NOMGEO\": \"MUN\"}),\n",
    "    on=[\"CVE_ENT\"]\n",
    ")"
   ]
  },
  {
   "cell_type": "markdown",
   "metadata": {
    "id": "WCriafqztAMN"
   },
   "source": [
    "### 3.0 Get fuel price data"
   ]
  },
  {
   "cell_type": "markdown",
   "metadata": {
    "id": "shny6RiBuPde"
   },
   "source": [
    "### 3.1 Download data from yearly results"
   ]
  },
  {
   "cell_type": "code",
   "execution_count": null,
   "metadata": {
    "id": "pSN_2tCopnKt"
   },
   "outputs": [],
   "source": [
    "# SITE\n",
    "# 'http://www.cre.gob.mx/da/PreciosPromedioMensuales.csv'\n",
    "\n",
    "# URL\n",
    "prices_url = 'http://transparenciacre.westcentralus.cloudapp.azure.com/PNT/73/III/E/PL/Precios_promedio_diarios_y_mensuales_en_estaciones_de_servicio.xlsx'\n",
    "\n",
    "# DATA\n",
    "daily_prices = pd.read_excel(prices_url, sheet_name='Cuadro 1.1', skiprows=3, header=0, usecols=\"A:D\", engine='openpyxl').rename(columns={\"Fecha\": \"date\"})\n",
    "regular_state_prices = pd.read_excel(prices_url, sheet_name='Cuadro 1.2', skiprows=3, header=[0,1], nrows=33, engine='openpyxl')\n",
    "premium_state_prices = pd.read_excel(prices_url, sheet_name='Cuadro 1.3', skiprows=3, header=[0,1], nrows=33, engine='openpyxl')\n",
    "diesel_state_prices = pd.read_excel(prices_url, sheet_name='Cuadro 1.4', skiprows=3, header=[0,1], nrows=33, engine='openpyxl')"
   ]
  },
  {
   "cell_type": "markdown",
   "metadata": {
    "id": "0qGkMPpFfbZN"
   },
   "source": [
    "# All done with setting up the environment, see you on the next video where we will shape the data into the desired model"
   ]
  },
  {
   "cell_type": "code",
   "execution_count": null,
   "metadata": {
    "id": "2ukF54-efkn1"
   },
   "outputs": [],
   "source": []
  }
 ],
 "metadata": {
  "colab": {
   "authorship_tag": "ABX9TyMb7FKND77p22cmcZxpSpHb",
   "collapsed_sections": [],
   "name": "Session 1.ipynb",
   "provenance": []
  },
  "kernelspec": {
   "display_name": "Python 3",
   "language": "python",
   "name": "python3"
  },
  "language_info": {
   "codemirror_mode": {
    "name": "ipython",
    "version": 3
   },
   "file_extension": ".py",
   "mimetype": "text/x-python",
   "name": "python",
   "nbconvert_exporter": "python",
   "pygments_lexer": "ipython3",
   "version": "3.6.9"
  }
 },
 "nbformat": 4,
 "nbformat_minor": 1
}
