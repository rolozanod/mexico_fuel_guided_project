{
  "nbformat": 4,
  "nbformat_minor": 0,
  "metadata": {
    "colab": {
      "name": "Untitled4.ipynb",
      "provenance": [],
      "collapsed_sections": [],
      "authorship_tag": "ABX9TyMEsFpImDsrTOOf/Xy6Ezqn",
      "include_colab_link": true
    },
    "kernelspec": {
      "name": "python3",
      "display_name": "Python 3"
    }
  },
  "cells": [
    {
      "cell_type": "markdown",
      "metadata": {
        "id": "view-in-github",
        "colab_type": "text"
      },
      "source": [
        "<a href=\"https://colab.research.google.com/github/rolozanod/mexico_fuel_guided_project/blob/main/Sessions/ColabSession2.ipynb\" target=\"_parent\"><img src=\"https://colab.research.google.com/assets/colab-badge.svg\" alt=\"Open In Colab\"/></a>"
      ]
    },
    {
      "cell_type": "code",
      "metadata": {
        "colab": {
          "base_uri": "https://localhost:8080/"
        },
        "id": "6_xc7tlE4cN4",
        "outputId": "029df85d-42bb-483f-8c71-46813633bbe8"
      },
      "source": [
        "!git clone https://github.com/rolozanod/mexico_fuel_guided_project.git"
      ],
      "execution_count": null,
      "outputs": [
        {
          "output_type": "stream",
          "text": [
            "Cloning into 'mexico_fuel_guided_project'...\n",
            "remote: Enumerating objects: 59, done.\u001b[K\n",
            "remote: Counting objects: 100% (59/59), done.\u001b[K\n",
            "remote: Compressing objects: 100% (57/57), done.\u001b[K\n",
            "remote: Total 59 (delta 21), reused 0 (delta 0), pack-reused 0\u001b[K\n",
            "Unpacking objects: 100% (59/59), done.\n"
          ],
          "name": "stdout"
        }
      ]
    },
    {
      "cell_type": "code",
      "metadata": {
        "id": "wmcmvbW94ltQ",
        "colab": {
          "base_uri": "https://localhost:8080/"
        },
        "outputId": "155e742d-3390-474a-cead-b262b0cb933d"
      },
      "source": [
        "!pip install geopandas"
      ],
      "execution_count": 2,
      "outputs": [
        {
          "output_type": "stream",
          "text": [
            "Collecting geopandas\n",
            "\u001b[?25l  Downloading https://files.pythonhosted.org/packages/d7/bf/e9cefb69d39155d122b6ddca53893b61535fa6ffdad70bf5ef708977f53f/geopandas-0.9.0-py2.py3-none-any.whl (994kB)\n",
            "\u001b[K     |████████████████████████████████| 1.0MB 5.7MB/s \n",
            "\u001b[?25hCollecting pyproj>=2.2.0\n",
            "\u001b[?25l  Downloading https://files.pythonhosted.org/packages/b1/72/d52e9ca81caef056062d71991b0e9b1d16af042245627c5d0e4916a36c4f/pyproj-3.0.1-cp37-cp37m-manylinux2010_x86_64.whl (6.5MB)\n",
            "\u001b[K     |████████████████████████████████| 6.5MB 12.6MB/s \n",
            "\u001b[?25hRequirement already satisfied: shapely>=1.6 in /usr/local/lib/python3.7/dist-packages (from geopandas) (1.7.1)\n",
            "Requirement already satisfied: pandas>=0.24.0 in /usr/local/lib/python3.7/dist-packages (from geopandas) (1.1.5)\n",
            "Collecting fiona>=1.8\n",
            "\u001b[?25l  Downloading https://files.pythonhosted.org/packages/47/c2/67d1d0acbaaee3b03e5e22e3b96c33219cb5dd392531c9ff9cee7c2eb3e4/Fiona-1.8.18-cp37-cp37m-manylinux1_x86_64.whl (14.8MB)\n",
            "\u001b[K     |████████████████████████████████| 14.8MB 246kB/s \n",
            "\u001b[?25hRequirement already satisfied: certifi in /usr/local/lib/python3.7/dist-packages (from pyproj>=2.2.0->geopandas) (2020.12.5)\n",
            "Requirement already satisfied: python-dateutil>=2.7.3 in /usr/local/lib/python3.7/dist-packages (from pandas>=0.24.0->geopandas) (2.8.1)\n",
            "Requirement already satisfied: pytz>=2017.2 in /usr/local/lib/python3.7/dist-packages (from pandas>=0.24.0->geopandas) (2018.9)\n",
            "Requirement already satisfied: numpy>=1.15.4 in /usr/local/lib/python3.7/dist-packages (from pandas>=0.24.0->geopandas) (1.19.5)\n",
            "Collecting click-plugins>=1.0\n",
            "  Downloading https://files.pythonhosted.org/packages/e9/da/824b92d9942f4e472702488857914bdd50f73021efea15b4cad9aca8ecef/click_plugins-1.1.1-py2.py3-none-any.whl\n",
            "Requirement already satisfied: attrs>=17 in /usr/local/lib/python3.7/dist-packages (from fiona>=1.8->geopandas) (20.3.0)\n",
            "Collecting cligj>=0.5\n",
            "  Downloading https://files.pythonhosted.org/packages/42/1e/947eadf10d6804bf276eb8a038bd5307996dceaaa41cfd21b7a15ec62f5d/cligj-0.7.1-py3-none-any.whl\n",
            "Requirement already satisfied: click<8,>=4.0 in /usr/local/lib/python3.7/dist-packages (from fiona>=1.8->geopandas) (7.1.2)\n",
            "Requirement already satisfied: six>=1.7 in /usr/local/lib/python3.7/dist-packages (from fiona>=1.8->geopandas) (1.15.0)\n",
            "Collecting munch\n",
            "  Downloading https://files.pythonhosted.org/packages/cc/ab/85d8da5c9a45e072301beb37ad7f833cd344e04c817d97e0cc75681d248f/munch-2.5.0-py2.py3-none-any.whl\n",
            "Installing collected packages: pyproj, click-plugins, cligj, munch, fiona, geopandas\n",
            "Successfully installed click-plugins-1.1.1 cligj-0.7.1 fiona-1.8.18 geopandas-0.9.0 munch-2.5.0 pyproj-3.0.1\n"
          ],
          "name": "stdout"
        }
      ]
    },
    {
      "cell_type": "code",
      "metadata": {
        "colab": {
          "base_uri": "https://localhost:8080/"
        },
        "id": "5RN8Y3545Mde",
        "outputId": "bf13c3f4-6963-4b5c-852f-fc2590ac299a"
      },
      "source": [
        " !unzip /content/mexico_fuel_guided_project/data.zip -d /content/mexico_fuel_guided_project"
      ],
      "execution_count": 3,
      "outputs": [
        {
          "output_type": "stream",
          "text": [
            "Archive:  /content/mexico_fuel_guided_project/data.zip\n",
            "  inflating: /content/mexico_fuel_guided_project/capacity.csv  \n",
            "  inflating: /content/mexico_fuel_guided_project/demand.csv  \n",
            "  inflating: /content/mexico_fuel_guided_project/short_censo2020.csv  \n"
          ],
          "name": "stdout"
        }
      ]
    },
    {
      "cell_type": "code",
      "metadata": {
        "colab": {
          "base_uri": "https://localhost:8080/",
          "height": 35
        },
        "id": "nuGDzlFl5Pvq",
        "outputId": "40fc0de6-e938-4cb5-b97b-a172ddba8c0c"
      },
      "source": [
        "import os\n",
        "os.chdir('mexico_fuel_guided_project')\n",
        "os.getcwd()"
      ],
      "execution_count": 4,
      "outputs": [
        {
          "output_type": "execute_result",
          "data": {
            "application/vnd.google.colaboratory.intrinsic+json": {
              "type": "string"
            },
            "text/plain": [
              "'/content/mexico_fuel_guided_project'"
            ]
          },
          "metadata": {
            "tags": []
          },
          "execution_count": 4
        }
      ]
    },
    {
      "cell_type": "code",
      "metadata": {
        "id": "0MAbJmgE5SZs"
      },
      "source": [
        "from modules.sessions import Session2 as sess"
      ],
      "execution_count": 5,
      "outputs": []
    },
    {
      "cell_type": "code",
      "metadata": {
        "colab": {
          "base_uri": "https://localhost:8080/"
        },
        "id": "8DHn-NZl5WTM",
        "outputId": "923745dc-7b73-4619-88a2-6c997a79bfbc"
      },
      "source": [
        "coords = sess().get_coords()"
      ],
      "execution_count": 6,
      "outputs": [
        {
          "output_type": "stream",
          "text": [
            "/content/mexico_fuel_guided_project/modules/data.py:62: UserWarning: Geometry is in a geographic CRS. Results from 'centroid' are likely incorrect. Use 'GeoSeries.to_crs()' to re-project geometries to a projected CRS before this operation.\n",
            "\n",
            "  coords['centroid'] = coords.geometry.centroid\n",
            "/content/mexico_fuel_guided_project/modules/data.py:72: UserWarning: Geometry is in a geographic CRS. Results from 'centroid' are likely incorrect. Use 'GeoSeries.to_crs()' to re-project geometries to a projected CRS before this operation.\n",
            "\n",
            "  coords['lat'] = coords.centroid.apply(lambda r: r.x)\n",
            "/content/mexico_fuel_guided_project/modules/data.py:73: UserWarning: Geometry is in a geographic CRS. Results from 'centroid' are likely incorrect. Use 'GeoSeries.to_crs()' to re-project geometries to a projected CRS before this operation.\n",
            "\n",
            "  coords['lon'] = coords.centroid.apply(lambda r: r.y)\n",
            "/content/mexico_fuel_guided_project/modules/data.py:62: UserWarning: Geometry is in a geographic CRS. Results from 'centroid' are likely incorrect. Use 'GeoSeries.to_crs()' to re-project geometries to a projected CRS before this operation.\n",
            "\n",
            "  coords['centroid'] = coords.geometry.centroid\n",
            "/content/mexico_fuel_guided_project/modules/data.py:72: UserWarning: Geometry is in a geographic CRS. Results from 'centroid' are likely incorrect. Use 'GeoSeries.to_crs()' to re-project geometries to a projected CRS before this operation.\n",
            "\n",
            "  coords['lat'] = coords.centroid.apply(lambda r: r.x)\n",
            "/content/mexico_fuel_guided_project/modules/data.py:73: UserWarning: Geometry is in a geographic CRS. Results from 'centroid' are likely incorrect. Use 'GeoSeries.to_crs()' to re-project geometries to a projected CRS before this operation.\n",
            "\n",
            "  coords['lon'] = coords.centroid.apply(lambda r: r.y)\n"
          ],
          "name": "stderr"
        }
      ]
    },
    {
      "cell_type": "code",
      "metadata": {
        "colab": {
          "base_uri": "https://localhost:8080/",
          "height": 255
        },
        "id": "q0L2hOYp5ZIS",
        "outputId": "775afdc1-1d88-4a31-dcba-a8fa5bcdaae9"
      },
      "source": [
        "sess().get_pop().sample(5)"
      ],
      "execution_count": 14,
      "outputs": [
        {
          "output_type": "execute_result",
          "data": {
            "text/html": [
              "<div>\n",
              "<style scoped>\n",
              "    .dataframe tbody tr th:only-of-type {\n",
              "        vertical-align: middle;\n",
              "    }\n",
              "\n",
              "    .dataframe tbody tr th {\n",
              "        vertical-align: top;\n",
              "    }\n",
              "\n",
              "    .dataframe thead th {\n",
              "        text-align: right;\n",
              "    }\n",
              "</style>\n",
              "<table border=\"1\" class=\"dataframe\">\n",
              "  <thead>\n",
              "    <tr style=\"text-align: right;\">\n",
              "      <th></th>\n",
              "      <th>state_key</th>\n",
              "      <th>state</th>\n",
              "      <th>loc_key</th>\n",
              "      <th>loc</th>\n",
              "      <th>pop</th>\n",
              "      <th>hab_houses</th>\n",
              "      <th>cars_per_house</th>\n",
              "    </tr>\n",
              "  </thead>\n",
              "  <tbody>\n",
              "    <tr>\n",
              "      <th>1253</th>\n",
              "      <td>26</td>\n",
              "      <td>Sonora</td>\n",
              "      <td>58</td>\n",
              "      <td>Santa Ana</td>\n",
              "      <td>14090.606734</td>\n",
              "      <td>4270.047104</td>\n",
              "      <td>2923.662242</td>\n",
              "    </tr>\n",
              "    <tr>\n",
              "      <th>1460</th>\n",
              "      <td>30</td>\n",
              "      <td>Veracruz de Ignacio de la Llave</td>\n",
              "      <td>123</td>\n",
              "      <td>Pánuco</td>\n",
              "      <td>92125.328587</td>\n",
              "      <td>26133.173292</td>\n",
              "      <td>8657.433798</td>\n",
              "    </tr>\n",
              "    <tr>\n",
              "      <th>191</th>\n",
              "      <td>8</td>\n",
              "      <td>Chihuahua</td>\n",
              "      <td>29</td>\n",
              "      <td>Guadalupe y Calvo</td>\n",
              "      <td>10498.572297</td>\n",
              "      <td>2667.628445</td>\n",
              "      <td>1022.747323</td>\n",
              "    </tr>\n",
              "    <tr>\n",
              "      <th>1387</th>\n",
              "      <td>30</td>\n",
              "      <td>Veracruz de Ignacio de la Llave</td>\n",
              "      <td>37</td>\n",
              "      <td>Coahuitlán</td>\n",
              "      <td>9567.840283</td>\n",
              "      <td>2177.632751</td>\n",
              "      <td>33.589908</td>\n",
              "    </tr>\n",
              "    <tr>\n",
              "      <th>1302</th>\n",
              "      <td>28</td>\n",
              "      <td>Tamaulipas</td>\n",
              "      <td>40</td>\n",
              "      <td>Valle Hermoso</td>\n",
              "      <td>60312.566313</td>\n",
              "      <td>18180.999596</td>\n",
              "      <td>14017.163910</td>\n",
              "    </tr>\n",
              "  </tbody>\n",
              "</table>\n",
              "</div>"
            ],
            "text/plain": [
              "      state_key                            state  ...    hab_houses cars_per_house\n",
              "1253         26                           Sonora  ...   4270.047104    2923.662242\n",
              "1460         30  Veracruz de Ignacio de la Llave  ...  26133.173292    8657.433798\n",
              "191           8                        Chihuahua  ...   2667.628445    1022.747323\n",
              "1387         30  Veracruz de Ignacio de la Llave  ...   2177.632751      33.589908\n",
              "1302         28                       Tamaulipas  ...  18180.999596   14017.163910\n",
              "\n",
              "[5 rows x 7 columns]"
            ]
          },
          "metadata": {
            "tags": []
          },
          "execution_count": 14
        }
      ]
    },
    {
      "cell_type": "code",
      "metadata": {
        "colab": {
          "base_uri": "https://localhost:8080/",
          "height": 204
        },
        "id": "2jph3Rk57GNh",
        "outputId": "c43a5b23-28c5-4df9-e3f2-2ae701bc1f67"
      },
      "source": [
        "sess().get_demand().sample(5)"
      ],
      "execution_count": 16,
      "outputs": [
        {
          "output_type": "execute_result",
          "data": {
            "text/html": [
              "<div>\n",
              "<style scoped>\n",
              "    .dataframe tbody tr th:only-of-type {\n",
              "        vertical-align: middle;\n",
              "    }\n",
              "\n",
              "    .dataframe tbody tr th {\n",
              "        vertical-align: top;\n",
              "    }\n",
              "\n",
              "    .dataframe thead th {\n",
              "        text-align: right;\n",
              "    }\n",
              "</style>\n",
              "<table border=\"1\" class=\"dataframe\">\n",
              "  <thead>\n",
              "    <tr style=\"text-align: right;\">\n",
              "      <th></th>\n",
              "      <th>state</th>\n",
              "      <th>year</th>\n",
              "      <th>MBBL</th>\n",
              "    </tr>\n",
              "  </thead>\n",
              "  <tbody>\n",
              "    <tr>\n",
              "      <th>24</th>\n",
              "      <td>Chiapas</td>\n",
              "      <td>2021</td>\n",
              "      <td>16.152664</td>\n",
              "    </tr>\n",
              "    <tr>\n",
              "      <th>8</th>\n",
              "      <td>Baja California</td>\n",
              "      <td>2020</td>\n",
              "      <td>41.113937</td>\n",
              "    </tr>\n",
              "    <tr>\n",
              "      <th>68</th>\n",
              "      <td>Jalisco</td>\n",
              "      <td>2020</td>\n",
              "      <td>45.443377</td>\n",
              "    </tr>\n",
              "    <tr>\n",
              "      <th>25</th>\n",
              "      <td>Chihuahua</td>\n",
              "      <td>2017</td>\n",
              "      <td>33.745117</td>\n",
              "    </tr>\n",
              "    <tr>\n",
              "      <th>126</th>\n",
              "      <td>Sonora</td>\n",
              "      <td>2018</td>\n",
              "      <td>24.567998</td>\n",
              "    </tr>\n",
              "  </tbody>\n",
              "</table>\n",
              "</div>"
            ],
            "text/plain": [
              "               state  year       MBBL\n",
              "24           Chiapas  2021  16.152664\n",
              "8    Baja California  2020  41.113937\n",
              "68           Jalisco  2020  45.443377\n",
              "25         Chihuahua  2017  33.745117\n",
              "126           Sonora  2018  24.567998"
            ]
          },
          "metadata": {
            "tags": []
          },
          "execution_count": 16
        }
      ]
    },
    {
      "cell_type": "code",
      "metadata": {
        "colab": {
          "base_uri": "https://localhost:8080/",
          "height": 297
        },
        "id": "c4UYPYgQ7KId",
        "outputId": "6bc9996c-e39e-4d8c-d8a5-68b42f481b01"
      },
      "source": [
        "sess().calc_fpc(sess().get_pop(), sess().get_demand(), regress = False).describe()"
      ],
      "execution_count": 19,
      "outputs": [
        {
          "output_type": "execute_result",
          "data": {
            "text/html": [
              "<div>\n",
              "<style scoped>\n",
              "    .dataframe tbody tr th:only-of-type {\n",
              "        vertical-align: middle;\n",
              "    }\n",
              "\n",
              "    .dataframe tbody tr th {\n",
              "        vertical-align: top;\n",
              "    }\n",
              "\n",
              "    .dataframe thead th {\n",
              "        text-align: right;\n",
              "    }\n",
              "</style>\n",
              "<table border=\"1\" class=\"dataframe\">\n",
              "  <thead>\n",
              "    <tr style=\"text-align: right;\">\n",
              "      <th></th>\n",
              "      <th>state_key</th>\n",
              "      <th>loc_key</th>\n",
              "      <th>pop</th>\n",
              "      <th>hab_houses</th>\n",
              "      <th>cars_per_house</th>\n",
              "      <th>LOC_FUEL</th>\n",
              "    </tr>\n",
              "  </thead>\n",
              "  <tbody>\n",
              "    <tr>\n",
              "      <th>count</th>\n",
              "      <td>1660.000000</td>\n",
              "      <td>1660.000000</td>\n",
              "      <td>1.660000e+03</td>\n",
              "      <td>1660.000000</td>\n",
              "      <td>1660.000000</td>\n",
              "      <td>1592.000000</td>\n",
              "    </tr>\n",
              "    <tr>\n",
              "      <th>mean</th>\n",
              "      <td>18.893373</td>\n",
              "      <td>75.259036</td>\n",
              "      <td>7.591206e+04</td>\n",
              "      <td>21224.977108</td>\n",
              "      <td>9843.848193</td>\n",
              "      <td>538.066345</td>\n",
              "    </tr>\n",
              "    <tr>\n",
              "      <th>std</th>\n",
              "      <td>8.025957</td>\n",
              "      <td>95.435282</td>\n",
              "      <td>2.035241e+05</td>\n",
              "      <td>57989.917161</td>\n",
              "      <td>31379.517604</td>\n",
              "      <td>1592.780941</td>\n",
              "    </tr>\n",
              "    <tr>\n",
              "      <th>min</th>\n",
              "      <td>1.000000</td>\n",
              "      <td>1.000000</td>\n",
              "      <td>2.688671e+03</td>\n",
              "      <td>733.204322</td>\n",
              "      <td>0.000000</td>\n",
              "      <td>13.176932</td>\n",
              "    </tr>\n",
              "    <tr>\n",
              "      <th>25%</th>\n",
              "      <td>13.000000</td>\n",
              "      <td>18.000000</td>\n",
              "      <td>7.901966e+03</td>\n",
              "      <td>2113.577629</td>\n",
              "      <td>547.667818</td>\n",
              "      <td>46.037867</td>\n",
              "    </tr>\n",
              "    <tr>\n",
              "      <th>50%</th>\n",
              "      <td>19.000000</td>\n",
              "      <td>46.000000</td>\n",
              "      <td>1.683675e+04</td>\n",
              "      <td>4543.320848</td>\n",
              "      <td>1412.262757</td>\n",
              "      <td>101.113781</td>\n",
              "    </tr>\n",
              "    <tr>\n",
              "      <th>75%</th>\n",
              "      <td>26.000000</td>\n",
              "      <td>93.000000</td>\n",
              "      <td>4.717999e+04</td>\n",
              "      <td>12596.816371</td>\n",
              "      <td>4462.123439</td>\n",
              "      <td>289.838634</td>\n",
              "    </tr>\n",
              "    <tr>\n",
              "      <th>max</th>\n",
              "      <td>32.000000</td>\n",
              "      <td>570.000000</td>\n",
              "      <td>2.262869e+06</td>\n",
              "      <td>625166.729645</td>\n",
              "      <td>391729.063868</td>\n",
              "      <td>22050.490865</td>\n",
              "    </tr>\n",
              "  </tbody>\n",
              "</table>\n",
              "</div>"
            ],
            "text/plain": [
              "         state_key      loc_key  ...  cars_per_house      LOC_FUEL\n",
              "count  1660.000000  1660.000000  ...     1660.000000   1592.000000\n",
              "mean     18.893373    75.259036  ...     9843.848193    538.066345\n",
              "std       8.025957    95.435282  ...    31379.517604   1592.780941\n",
              "min       1.000000     1.000000  ...        0.000000     13.176932\n",
              "25%      13.000000    18.000000  ...      547.667818     46.037867\n",
              "50%      19.000000    46.000000  ...     1412.262757    101.113781\n",
              "75%      26.000000    93.000000  ...     4462.123439    289.838634\n",
              "max      32.000000   570.000000  ...   391729.063868  22050.490865\n",
              "\n",
              "[8 rows x 6 columns]"
            ]
          },
          "metadata": {
            "tags": []
          },
          "execution_count": 19
        }
      ]
    },
    {
      "cell_type": "code",
      "metadata": {
        "colab": {
          "base_uri": "https://localhost:8080/",
          "height": 541
        },
        "id": "L0TkB7nS7pIQ",
        "outputId": "8650b02f-2773-4886-ff2c-5e61c3108fed"
      },
      "source": [
        "sess().get_price_dataframe()"
      ],
      "execution_count": 20,
      "outputs": [
        {
          "output_type": "stream",
          "text": [
            "/content/mexico_fuel_guided_project/modules/data.py:168: SettingWithCopyWarning: \n",
            "A value is trying to be set on a copy of a slice from a DataFrame.\n",
            "Try using .loc[row_indexer,col_indexer] = value instead\n",
            "\n",
            "See the caveats in the documentation: https://pandas.pydata.org/pandas-docs/stable/user_guide/indexing.html#returning-a-view-versus-a-copy\n",
            "  daily['date'] = pd.to_datetime(daily.date, format='%d/%m/%Y')\n"
          ],
          "name": "stderr"
        },
        {
          "output_type": "execute_result",
          "data": {
            "text/html": [
              "<div>\n",
              "<style scoped>\n",
              "    .dataframe tbody tr th:only-of-type {\n",
              "        vertical-align: middle;\n",
              "    }\n",
              "\n",
              "    .dataframe tbody tr th {\n",
              "        vertical-align: top;\n",
              "    }\n",
              "\n",
              "    .dataframe thead th {\n",
              "        text-align: right;\n",
              "    }\n",
              "</style>\n",
              "<table border=\"1\" class=\"dataframe\">\n",
              "  <thead>\n",
              "    <tr style=\"text-align: right;\">\n",
              "      <th></th>\n",
              "      <th>date</th>\n",
              "      <th>state</th>\n",
              "      <th>price</th>\n",
              "    </tr>\n",
              "  </thead>\n",
              "  <tbody>\n",
              "    <tr>\n",
              "      <th>0</th>\n",
              "      <td>2017-01-01</td>\n",
              "      <td>Aguascalientes</td>\n",
              "      <td>17.162569</td>\n",
              "    </tr>\n",
              "    <tr>\n",
              "      <th>1</th>\n",
              "      <td>2017-01-01</td>\n",
              "      <td>Baja California</td>\n",
              "      <td>17.068158</td>\n",
              "    </tr>\n",
              "    <tr>\n",
              "      <th>2</th>\n",
              "      <td>2017-01-01</td>\n",
              "      <td>Baja California Sur</td>\n",
              "      <td>17.074159</td>\n",
              "    </tr>\n",
              "    <tr>\n",
              "      <th>3</th>\n",
              "      <td>2017-01-01</td>\n",
              "      <td>Campeche</td>\n",
              "      <td>16.626283</td>\n",
              "    </tr>\n",
              "    <tr>\n",
              "      <th>4</th>\n",
              "      <td>2017-01-01</td>\n",
              "      <td>Chiapas</td>\n",
              "      <td>16.827494</td>\n",
              "    </tr>\n",
              "    <tr>\n",
              "      <th>...</th>\n",
              "      <td>...</td>\n",
              "      <td>...</td>\n",
              "      <td>...</td>\n",
              "    </tr>\n",
              "    <tr>\n",
              "      <th>48635</th>\n",
              "      <td>2021-02-28</td>\n",
              "      <td>Tamaulipas</td>\n",
              "      <td>18.224781</td>\n",
              "    </tr>\n",
              "    <tr>\n",
              "      <th>48636</th>\n",
              "      <td>2021-02-28</td>\n",
              "      <td>Tlaxcala</td>\n",
              "      <td>19.576055</td>\n",
              "    </tr>\n",
              "    <tr>\n",
              "      <th>48637</th>\n",
              "      <td>2021-02-28</td>\n",
              "      <td>Veracruz de Ignacio de la Llave</td>\n",
              "      <td>19.635799</td>\n",
              "    </tr>\n",
              "    <tr>\n",
              "      <th>48638</th>\n",
              "      <td>2021-02-28</td>\n",
              "      <td>Yucatán</td>\n",
              "      <td>20.375743</td>\n",
              "    </tr>\n",
              "    <tr>\n",
              "      <th>48639</th>\n",
              "      <td>2021-02-28</td>\n",
              "      <td>Zacatecas</td>\n",
              "      <td>19.914063</td>\n",
              "    </tr>\n",
              "  </tbody>\n",
              "</table>\n",
              "<p>48640 rows × 3 columns</p>\n",
              "</div>"
            ],
            "text/plain": [
              "            date                            state      price\n",
              "0     2017-01-01                   Aguascalientes  17.162569\n",
              "1     2017-01-01                  Baja California  17.068158\n",
              "2     2017-01-01              Baja California Sur  17.074159\n",
              "3     2017-01-01                         Campeche  16.626283\n",
              "4     2017-01-01                          Chiapas  16.827494\n",
              "...          ...                              ...        ...\n",
              "48635 2021-02-28                       Tamaulipas  18.224781\n",
              "48636 2021-02-28                         Tlaxcala  19.576055\n",
              "48637 2021-02-28  Veracruz de Ignacio de la Llave  19.635799\n",
              "48638 2021-02-28                          Yucatán  20.375743\n",
              "48639 2021-02-28                        Zacatecas  19.914063\n",
              "\n",
              "[48640 rows x 3 columns]"
            ]
          },
          "metadata": {
            "tags": []
          },
          "execution_count": 20
        }
      ]
    },
    {
      "cell_type": "code",
      "metadata": {
        "colab": {
          "base_uri": "https://localhost:8080/",
          "height": 323
        },
        "id": "6wIkLOEz73Jh",
        "outputId": "62419ff6-427a-4b15-9dc1-c3ce8be758af"
      },
      "source": [
        "sess().create_fuel_dataframe()"
      ],
      "execution_count": 21,
      "outputs": [
        {
          "output_type": "error",
          "ename": "TypeError",
          "evalue": "ignored",
          "traceback": [
            "\u001b[0;31m---------------------------------------------------------------------------\u001b[0m",
            "\u001b[0;31mTypeError\u001b[0m                                 Traceback (most recent call last)",
            "\u001b[0;32m<ipython-input-21-9aae640a2634>\u001b[0m in \u001b[0;36m<module>\u001b[0;34m()\u001b[0m\n\u001b[0;32m----> 1\u001b[0;31m \u001b[0msess\u001b[0m\u001b[0;34m(\u001b[0m\u001b[0;34m)\u001b[0m\u001b[0;34m.\u001b[0m\u001b[0mcreate_fuel_dataframe\u001b[0m\u001b[0;34m(\u001b[0m\u001b[0;34m)\u001b[0m\u001b[0;34m\u001b[0m\u001b[0;34m\u001b[0m\u001b[0m\n\u001b[0m",
            "\u001b[0;32m/content/mexico_fuel_guided_project/modules/data.py\u001b[0m in \u001b[0;36mcreate_fuel_dataframe\u001b[0;34m(min_share, keep_above, local)\u001b[0m\n\u001b[1;32m    334\u001b[0m \u001b[0;32mdef\u001b[0m \u001b[0mcreate_fuel_dataframe\u001b[0m\u001b[0;34m(\u001b[0m\u001b[0mmin_share\u001b[0m\u001b[0;34m=\u001b[0m\u001b[0;36m0.1\u001b[0m\u001b[0;34m,\u001b[0m \u001b[0mkeep_above\u001b[0m\u001b[0;34m=\u001b[0m\u001b[0;36m0.9\u001b[0m\u001b[0;34m,\u001b[0m \u001b[0mlocal\u001b[0m\u001b[0;34m=\u001b[0m\u001b[0;32mTrue\u001b[0m\u001b[0;34m)\u001b[0m\u001b[0;34m:\u001b[0m\u001b[0;34m\u001b[0m\u001b[0;34m\u001b[0m\u001b[0m\n\u001b[1;32m    335\u001b[0m \u001b[0;34m\u001b[0m\u001b[0m\n\u001b[0;32m--> 336\u001b[0;31m     \u001b[0mconsumption_data\u001b[0m\u001b[0;34m,\u001b[0m \u001b[0mmodel\u001b[0m \u001b[0;34m=\u001b[0m \u001b[0mcalc_consumption_data\u001b[0m\u001b[0;34m(\u001b[0m\u001b[0mreturn_model\u001b[0m\u001b[0;34m=\u001b[0m\u001b[0;32mTrue\u001b[0m\u001b[0;34m,\u001b[0m \u001b[0maggregated\u001b[0m\u001b[0;34m=\u001b[0m\u001b[0;32mTrue\u001b[0m\u001b[0;34m)\u001b[0m\u001b[0;34m\u001b[0m\u001b[0;34m\u001b[0m\u001b[0m\n\u001b[0m\u001b[1;32m    337\u001b[0m \u001b[0;34m\u001b[0m\u001b[0m\n\u001b[1;32m    338\u001b[0m     \u001b[0mdata\u001b[0m \u001b[0;34m=\u001b[0m \u001b[0mget_fuel_dataframe\u001b[0m\u001b[0;34m(\u001b[0m\u001b[0;34m)\u001b[0m\u001b[0;34m\u001b[0m\u001b[0;34m\u001b[0m\u001b[0m\n",
            "\u001b[0;32m/content/mexico_fuel_guided_project/modules/data.py\u001b[0m in \u001b[0;36mcalc_consumption_data\u001b[0;34m(return_model, aggregated, min_share, keep_above, local)\u001b[0m\n\u001b[1;32m    229\u001b[0m \u001b[0;34m\u001b[0m\u001b[0m\n\u001b[1;32m    230\u001b[0m     \u001b[0;32mif\u001b[0m \u001b[0mlocal\u001b[0m\u001b[0;34m:\u001b[0m\u001b[0;34m\u001b[0m\u001b[0;34m\u001b[0m\u001b[0m\n\u001b[0;32m--> 231\u001b[0;31m         \u001b[0mcoords\u001b[0m \u001b[0;34m=\u001b[0m \u001b[0mpd\u001b[0m\u001b[0;34m.\u001b[0m\u001b[0mread_csv\u001b[0m\u001b[0;34m(\u001b[0m\u001b[0;34m'/content/geoinfo.csv'\u001b[0m\u001b[0;34m,\u001b[0m \u001b[0mindex\u001b[0m\u001b[0;34m=\u001b[0m\u001b[0;32mFalse\u001b[0m\u001b[0;34m,\u001b[0m \u001b[0msep\u001b[0m\u001b[0;34m=\u001b[0m\u001b[0;34m'|'\u001b[0m\u001b[0;34m,\u001b[0m \u001b[0mencoding\u001b[0m\u001b[0;34m=\u001b[0m\u001b[0;34m'cp1252'\u001b[0m\u001b[0;34m)\u001b[0m\u001b[0;34m\u001b[0m\u001b[0;34m\u001b[0m\u001b[0m\n\u001b[0m\u001b[1;32m    232\u001b[0m     \u001b[0;32melse\u001b[0m\u001b[0;34m:\u001b[0m\u001b[0;34m\u001b[0m\u001b[0;34m\u001b[0m\u001b[0m\n\u001b[1;32m    233\u001b[0m         \u001b[0mcoords\u001b[0m \u001b[0;34m=\u001b[0m \u001b[0mget_coords\u001b[0m\u001b[0;34m(\u001b[0m\u001b[0;34m)\u001b[0m\u001b[0;34m\u001b[0m\u001b[0;34m\u001b[0m\u001b[0m\n",
            "\u001b[0;31mTypeError\u001b[0m: read_csv() got an unexpected keyword argument 'index'"
          ]
        }
      ]
    },
    {
      "cell_type": "code",
      "metadata": {
        "id": "bbp-4VYP9iwy"
      },
      "source": [
        ""
      ],
      "execution_count": null,
      "outputs": []
    }
  ]
}