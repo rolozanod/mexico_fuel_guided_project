{
 "cells": [
  {
   "cell_type": "markdown",
   "metadata": {
    "colab_type": "text",
    "id": "view-in-github"
   },
   "source": [
    "<a href=\"https://colab.research.google.com/github/rolozanod/mexico_fuel_guided_project/blob/main/Sessions/ColabSession2.ipynb\" target=\"_parent\"><img src=\"https://colab.research.google.com/assets/colab-badge.svg\" alt=\"Open In Colab\"/></a>"
   ]
  },
  {
   "cell_type": "markdown",
   "metadata": {},
   "source": [
    "# Session 2: Understanding the data\n",
    "\n",
    "1. Manipulate the data\n",
    "  1. Calculate daily fuel consumption\n",
    "  1. Calculate daily fuel prices\n",
    "  1. Estimate fuel consumption for missing states and estimate seasonality from prices\n",
    "1. Filter and group the important locations by revenue to reduce complexity \n",
    "1. Merge all data into a dataframe"
   ]
  },
  {
   "cell_type": "code",
   "execution_count": null,
   "metadata": {
    "colab": {
     "base_uri": "https://localhost:8080/"
    },
    "id": "6_xc7tlE4cN4",
    "outputId": "029df85d-42bb-483f-8c71-46813633bbe8"
   },
   "outputs": [
    {
     "name": "stdout",
     "output_type": "stream",
     "text": [
      "Cloning into 'mexico_fuel_guided_project'...\n",
      "remote: Enumerating objects: 59, done.\u001b[K\n",
      "remote: Counting objects: 100% (59/59), done.\u001b[K\n",
      "remote: Compressing objects: 100% (57/57), done.\u001b[K\n",
      "remote: Total 59 (delta 21), reused 0 (delta 0), pack-reused 0\u001b[K\n",
      "Unpacking objects: 100% (59/59), done.\n"
     ]
    }
   ],
   "source": [
    "!git clone https://github.com/rolozanod/mexico_fuel_guided_project.git"
   ]
  },
  {
   "cell_type": "code",
   "execution_count": 2,
   "metadata": {
    "colab": {
     "base_uri": "https://localhost:8080/"
    },
    "id": "wmcmvbW94ltQ",
    "outputId": "155e742d-3390-474a-cead-b262b0cb933d"
   },
   "outputs": [
    {
     "name": "stdout",
     "output_type": "stream",
     "text": [
      "Collecting geopandas\n",
      "\u001b[?25l  Downloading https://files.pythonhosted.org/packages/d7/bf/e9cefb69d39155d122b6ddca53893b61535fa6ffdad70bf5ef708977f53f/geopandas-0.9.0-py2.py3-none-any.whl (994kB)\n",
      "\u001b[K     |████████████████████████████████| 1.0MB 5.7MB/s \n",
      "\u001b[?25hCollecting pyproj>=2.2.0\n",
      "\u001b[?25l  Downloading https://files.pythonhosted.org/packages/b1/72/d52e9ca81caef056062d71991b0e9b1d16af042245627c5d0e4916a36c4f/pyproj-3.0.1-cp37-cp37m-manylinux2010_x86_64.whl (6.5MB)\n",
      "\u001b[K     |████████████████████████████████| 6.5MB 12.6MB/s \n",
      "\u001b[?25hRequirement already satisfied: shapely>=1.6 in /usr/local/lib/python3.7/dist-packages (from geopandas) (1.7.1)\n",
      "Requirement already satisfied: pandas>=0.24.0 in /usr/local/lib/python3.7/dist-packages (from geopandas) (1.1.5)\n",
      "Collecting fiona>=1.8\n",
      "\u001b[?25l  Downloading https://files.pythonhosted.org/packages/47/c2/67d1d0acbaaee3b03e5e22e3b96c33219cb5dd392531c9ff9cee7c2eb3e4/Fiona-1.8.18-cp37-cp37m-manylinux1_x86_64.whl (14.8MB)\n",
      "\u001b[K     |████████████████████████████████| 14.8MB 246kB/s \n",
      "\u001b[?25hRequirement already satisfied: certifi in /usr/local/lib/python3.7/dist-packages (from pyproj>=2.2.0->geopandas) (2020.12.5)\n",
      "Requirement already satisfied: python-dateutil>=2.7.3 in /usr/local/lib/python3.7/dist-packages (from pandas>=0.24.0->geopandas) (2.8.1)\n",
      "Requirement already satisfied: pytz>=2017.2 in /usr/local/lib/python3.7/dist-packages (from pandas>=0.24.0->geopandas) (2018.9)\n",
      "Requirement already satisfied: numpy>=1.15.4 in /usr/local/lib/python3.7/dist-packages (from pandas>=0.24.0->geopandas) (1.19.5)\n",
      "Collecting click-plugins>=1.0\n",
      "  Downloading https://files.pythonhosted.org/packages/e9/da/824b92d9942f4e472702488857914bdd50f73021efea15b4cad9aca8ecef/click_plugins-1.1.1-py2.py3-none-any.whl\n",
      "Requirement already satisfied: attrs>=17 in /usr/local/lib/python3.7/dist-packages (from fiona>=1.8->geopandas) (20.3.0)\n",
      "Collecting cligj>=0.5\n",
      "  Downloading https://files.pythonhosted.org/packages/42/1e/947eadf10d6804bf276eb8a038bd5307996dceaaa41cfd21b7a15ec62f5d/cligj-0.7.1-py3-none-any.whl\n",
      "Requirement already satisfied: click<8,>=4.0 in /usr/local/lib/python3.7/dist-packages (from fiona>=1.8->geopandas) (7.1.2)\n",
      "Requirement already satisfied: six>=1.7 in /usr/local/lib/python3.7/dist-packages (from fiona>=1.8->geopandas) (1.15.0)\n",
      "Collecting munch\n",
      "  Downloading https://files.pythonhosted.org/packages/cc/ab/85d8da5c9a45e072301beb37ad7f833cd344e04c817d97e0cc75681d248f/munch-2.5.0-py2.py3-none-any.whl\n",
      "Installing collected packages: pyproj, click-plugins, cligj, munch, fiona, geopandas\n",
      "Successfully installed click-plugins-1.1.1 cligj-0.7.1 fiona-1.8.18 geopandas-0.9.0 munch-2.5.0 pyproj-3.0.1\n"
     ]
    }
   ],
   "source": [
    "!pip install geopandas"
   ]
  },
  {
   "cell_type": "code",
   "execution_count": 5,
   "metadata": {
    "colab": {
     "base_uri": "https://localhost:8080/"
    },
    "id": "5RN8Y3545Mde",
    "outputId": "bf13c3f4-6963-4b5c-852f-fc2590ac299a",
    "scrolled": true
   },
   "outputs": [
    {
     "name": "stdout",
     "output_type": "stream",
     "text": [
      "Archive:  /content/mexico_fuel_guided_project/data.zip\r\n",
      "  inflating: /content/mexico_fuel_guided_project/capacity.csv  \r\n",
      "  inflating: /content/mexico_fuel_guided_project/demand.csv  \r\n",
      "  inflating: /content/mexico_fuel_guided_project/short_censo2020.csv  \r\n"
     ]
    }
   ],
   "source": [
    " !unzip /content/mexico_fuel_guided_project/data.zip -d /content/mexico_fuel_guided_project"
   ]
  },
  {
   "cell_type": "code",
   "execution_count": 1,
   "metadata": {},
   "outputs": [],
   "source": [
    "%load_ext autoreload\n",
    "%autoreload 2"
   ]
  },
  {
   "cell_type": "code",
   "execution_count": 2,
   "metadata": {
    "colab": {
     "base_uri": "https://localhost:8080/",
     "height": 35
    },
    "id": "nuGDzlFl5Pvq",
    "outputId": "40fc0de6-e938-4cb5-b97b-a172ddba8c0c",
    "scrolled": true
   },
   "outputs": [
    {
     "data": {
      "text/plain": [
       "'/content/mexico_fuel_guided_project'"
      ]
     },
     "execution_count": 2,
     "metadata": {},
     "output_type": "execute_result"
    }
   ],
   "source": [
    "import os\n",
    "os.chdir('/content/mexico_fuel_guided_project')\n",
    "os.getcwd()"
   ]
  },
  {
   "cell_type": "code",
   "execution_count": 3,
   "metadata": {},
   "outputs": [
    {
     "name": "stdout",
     "output_type": "stream",
     "text": [
      "README.md  capacity.csv  demand.csv   modules\t\t   weights.h5\r\n",
      "Sessions   data.zip\t geoinfo.csv  short_censo2020.csv\r\n"
     ]
    }
   ],
   "source": [
    "!ls"
   ]
  },
  {
   "cell_type": "code",
   "execution_count": 4,
   "metadata": {
    "id": "0MAbJmgE5SZs"
   },
   "outputs": [],
   "source": [
    "from modules.sessions import Session2 as sess"
   ]
  },
  {
   "cell_type": "code",
   "execution_count": 5,
   "metadata": {
    "colab": {
     "base_uri": "https://localhost:8080/",
     "height": 255
    },
    "id": "q0L2hOYp5ZIS",
    "outputId": "775afdc1-1d88-4a31-dcba-a8fa5bcdaae9"
   },
   "outputs": [
    {
     "data": {
      "text/html": [
       "<div>\n",
       "<style scoped>\n",
       "    .dataframe tbody tr th:only-of-type {\n",
       "        vertical-align: middle;\n",
       "    }\n",
       "\n",
       "    .dataframe tbody tr th {\n",
       "        vertical-align: top;\n",
       "    }\n",
       "\n",
       "    .dataframe thead th {\n",
       "        text-align: right;\n",
       "    }\n",
       "</style>\n",
       "<table border=\"1\" class=\"dataframe\">\n",
       "  <thead>\n",
       "    <tr style=\"text-align: right;\">\n",
       "      <th></th>\n",
       "      <th>state_key</th>\n",
       "      <th>state</th>\n",
       "      <th>loc_key</th>\n",
       "      <th>loc</th>\n",
       "      <th>pop</th>\n",
       "      <th>hab_houses</th>\n",
       "      <th>cars_per_house</th>\n",
       "    </tr>\n",
       "  </thead>\n",
       "  <tbody>\n",
       "    <tr>\n",
       "      <th>1087</th>\n",
       "      <td>21</td>\n",
       "      <td>Puebla</td>\n",
       "      <td>147</td>\n",
       "      <td>Santa Inés Ahuatempan</td>\n",
       "      <td>6023.031305</td>\n",
       "      <td>1761.669447</td>\n",
       "      <td>207.810790</td>\n",
       "    </tr>\n",
       "    <tr>\n",
       "      <th>784</th>\n",
       "      <td>17</td>\n",
       "      <td>Morelos</td>\n",
       "      <td>35</td>\n",
       "      <td>Xoxocotla</td>\n",
       "      <td>29409.880769</td>\n",
       "      <td>6561.516557</td>\n",
       "      <td>1349.630756</td>\n",
       "    </tr>\n",
       "    <tr>\n",
       "      <th>1375</th>\n",
       "      <td>30</td>\n",
       "      <td>Veracruz de Ignacio de la Llave</td>\n",
       "      <td>22</td>\n",
       "      <td>Atzacan</td>\n",
       "      <td>24925.034772</td>\n",
       "      <td>6063.553602</td>\n",
       "      <td>775.488756</td>\n",
       "    </tr>\n",
       "    <tr>\n",
       "      <th>391</th>\n",
       "      <td>13</td>\n",
       "      <td>Hidalgo</td>\n",
       "      <td>46</td>\n",
       "      <td>San Felipe Orizatlán</td>\n",
       "      <td>26390.534925</td>\n",
       "      <td>6897.609672</td>\n",
       "      <td>1311.535918</td>\n",
       "    </tr>\n",
       "    <tr>\n",
       "      <th>1656</th>\n",
       "      <td>32</td>\n",
       "      <td>Zacatecas</td>\n",
       "      <td>54</td>\n",
       "      <td>Villa Hidalgo</td>\n",
       "      <td>7668.842322</td>\n",
       "      <td>1950.344572</td>\n",
       "      <td>994.657203</td>\n",
       "    </tr>\n",
       "  </tbody>\n",
       "</table>\n",
       "</div>"
      ],
      "text/plain": [
       "      state_key                            state  loc_key  \\\n",
       "1087         21                           Puebla      147   \n",
       "784          17                          Morelos       35   \n",
       "1375         30  Veracruz de Ignacio de la Llave       22   \n",
       "391          13                          Hidalgo       46   \n",
       "1656         32                        Zacatecas       54   \n",
       "\n",
       "                        loc           pop   hab_houses  cars_per_house  \n",
       "1087  Santa Inés Ahuatempan   6023.031305  1761.669447      207.810790  \n",
       "784               Xoxocotla  29409.880769  6561.516557     1349.630756  \n",
       "1375                Atzacan  24925.034772  6063.553602      775.488756  \n",
       "391    San Felipe Orizatlán  26390.534925  6897.609672     1311.535918  \n",
       "1656          Villa Hidalgo   7668.842322  1950.344572      994.657203  "
      ]
     },
     "execution_count": 5,
     "metadata": {},
     "output_type": "execute_result"
    }
   ],
   "source": [
    "sess().get_pop().sample(5)"
   ]
  },
  {
   "cell_type": "code",
   "execution_count": 6,
   "metadata": {
    "colab": {
     "base_uri": "https://localhost:8080/",
     "height": 204
    },
    "id": "2jph3Rk57GNh",
    "outputId": "c43a5b23-28c5-4df9-e3f2-2ae701bc1f67"
   },
   "outputs": [
    {
     "data": {
      "text/html": [
       "<div>\n",
       "<style scoped>\n",
       "    .dataframe tbody tr th:only-of-type {\n",
       "        vertical-align: middle;\n",
       "    }\n",
       "\n",
       "    .dataframe tbody tr th {\n",
       "        vertical-align: top;\n",
       "    }\n",
       "\n",
       "    .dataframe thead th {\n",
       "        text-align: right;\n",
       "    }\n",
       "</style>\n",
       "<table border=\"1\" class=\"dataframe\">\n",
       "  <thead>\n",
       "    <tr style=\"text-align: right;\">\n",
       "      <th></th>\n",
       "      <th>state</th>\n",
       "      <th>year</th>\n",
       "      <th>MBBL</th>\n",
       "    </tr>\n",
       "  </thead>\n",
       "  <tbody>\n",
       "    <tr>\n",
       "      <th>113</th>\n",
       "      <td>Quintana Roo</td>\n",
       "      <td>2020</td>\n",
       "      <td>NaN</td>\n",
       "    </tr>\n",
       "    <tr>\n",
       "      <th>97</th>\n",
       "      <td>Oaxaca</td>\n",
       "      <td>2019</td>\n",
       "      <td>15.554176</td>\n",
       "    </tr>\n",
       "    <tr>\n",
       "      <th>132</th>\n",
       "      <td>Tabasco</td>\n",
       "      <td>2019</td>\n",
       "      <td>10.919389</td>\n",
       "    </tr>\n",
       "    <tr>\n",
       "      <th>104</th>\n",
       "      <td>Puebla</td>\n",
       "      <td>2021</td>\n",
       "      <td>29.317781</td>\n",
       "    </tr>\n",
       "    <tr>\n",
       "      <th>63</th>\n",
       "      <td>Hidalgo</td>\n",
       "      <td>2020</td>\n",
       "      <td>31.119366</td>\n",
       "    </tr>\n",
       "  </tbody>\n",
       "</table>\n",
       "</div>"
      ],
      "text/plain": [
       "            state  year       MBBL\n",
       "113  Quintana Roo  2020        NaN\n",
       "97         Oaxaca  2019  15.554176\n",
       "132       Tabasco  2019  10.919389\n",
       "104        Puebla  2021  29.317781\n",
       "63        Hidalgo  2020  31.119366"
      ]
     },
     "execution_count": 6,
     "metadata": {},
     "output_type": "execute_result"
    }
   ],
   "source": [
    "sess().get_demand().sample(5)"
   ]
  },
  {
   "cell_type": "code",
   "execution_count": 7,
   "metadata": {
    "colab": {
     "base_uri": "https://localhost:8080/",
     "height": 297
    },
    "id": "c4UYPYgQ7KId",
    "outputId": "6bc9996c-e39e-4d8c-d8a5-68b42f481b01"
   },
   "outputs": [
    {
     "data": {
      "text/html": [
       "<div>\n",
       "<style scoped>\n",
       "    .dataframe tbody tr th:only-of-type {\n",
       "        vertical-align: middle;\n",
       "    }\n",
       "\n",
       "    .dataframe tbody tr th {\n",
       "        vertical-align: top;\n",
       "    }\n",
       "\n",
       "    .dataframe thead th {\n",
       "        text-align: right;\n",
       "    }\n",
       "</style>\n",
       "<table border=\"1\" class=\"dataframe\">\n",
       "  <thead>\n",
       "    <tr style=\"text-align: right;\">\n",
       "      <th></th>\n",
       "      <th>state_key</th>\n",
       "      <th>loc_key</th>\n",
       "      <th>pop</th>\n",
       "      <th>hab_houses</th>\n",
       "      <th>cars_per_house</th>\n",
       "      <th>LOC_FUEL</th>\n",
       "    </tr>\n",
       "  </thead>\n",
       "  <tbody>\n",
       "    <tr>\n",
       "      <th>count</th>\n",
       "      <td>1660.000000</td>\n",
       "      <td>1660.000000</td>\n",
       "      <td>1.660000e+03</td>\n",
       "      <td>1660.000000</td>\n",
       "      <td>1660.000000</td>\n",
       "      <td>1592.000000</td>\n",
       "    </tr>\n",
       "    <tr>\n",
       "      <th>mean</th>\n",
       "      <td>18.893373</td>\n",
       "      <td>75.259036</td>\n",
       "      <td>7.591206e+04</td>\n",
       "      <td>21224.977108</td>\n",
       "      <td>9843.848193</td>\n",
       "      <td>538.066345</td>\n",
       "    </tr>\n",
       "    <tr>\n",
       "      <th>std</th>\n",
       "      <td>8.025957</td>\n",
       "      <td>95.435282</td>\n",
       "      <td>2.035241e+05</td>\n",
       "      <td>57989.917161</td>\n",
       "      <td>31379.517604</td>\n",
       "      <td>1592.780941</td>\n",
       "    </tr>\n",
       "    <tr>\n",
       "      <th>min</th>\n",
       "      <td>1.000000</td>\n",
       "      <td>1.000000</td>\n",
       "      <td>2.688671e+03</td>\n",
       "      <td>733.204322</td>\n",
       "      <td>0.000000</td>\n",
       "      <td>13.176932</td>\n",
       "    </tr>\n",
       "    <tr>\n",
       "      <th>25%</th>\n",
       "      <td>13.000000</td>\n",
       "      <td>18.000000</td>\n",
       "      <td>7.901966e+03</td>\n",
       "      <td>2113.577629</td>\n",
       "      <td>547.667818</td>\n",
       "      <td>46.037867</td>\n",
       "    </tr>\n",
       "    <tr>\n",
       "      <th>50%</th>\n",
       "      <td>19.000000</td>\n",
       "      <td>46.000000</td>\n",
       "      <td>1.683675e+04</td>\n",
       "      <td>4543.320848</td>\n",
       "      <td>1412.262757</td>\n",
       "      <td>101.113781</td>\n",
       "    </tr>\n",
       "    <tr>\n",
       "      <th>75%</th>\n",
       "      <td>26.000000</td>\n",
       "      <td>93.000000</td>\n",
       "      <td>4.717999e+04</td>\n",
       "      <td>12596.816371</td>\n",
       "      <td>4462.123439</td>\n",
       "      <td>289.838634</td>\n",
       "    </tr>\n",
       "    <tr>\n",
       "      <th>max</th>\n",
       "      <td>32.000000</td>\n",
       "      <td>570.000000</td>\n",
       "      <td>2.262869e+06</td>\n",
       "      <td>625166.729645</td>\n",
       "      <td>391729.063868</td>\n",
       "      <td>22050.490865</td>\n",
       "    </tr>\n",
       "  </tbody>\n",
       "</table>\n",
       "</div>"
      ],
      "text/plain": [
       "         state_key      loc_key           pop     hab_houses  cars_per_house  \\\n",
       "count  1660.000000  1660.000000  1.660000e+03    1660.000000     1660.000000   \n",
       "mean     18.893373    75.259036  7.591206e+04   21224.977108     9843.848193   \n",
       "std       8.025957    95.435282  2.035241e+05   57989.917161    31379.517604   \n",
       "min       1.000000     1.000000  2.688671e+03     733.204322        0.000000   \n",
       "25%      13.000000    18.000000  7.901966e+03    2113.577629      547.667818   \n",
       "50%      19.000000    46.000000  1.683675e+04    4543.320848     1412.262757   \n",
       "75%      26.000000    93.000000  4.717999e+04   12596.816371     4462.123439   \n",
       "max      32.000000   570.000000  2.262869e+06  625166.729645   391729.063868   \n",
       "\n",
       "           LOC_FUEL  \n",
       "count   1592.000000  \n",
       "mean     538.066345  \n",
       "std     1592.780941  \n",
       "min       13.176932  \n",
       "25%       46.037867  \n",
       "50%      101.113781  \n",
       "75%      289.838634  \n",
       "max    22050.490865  "
      ]
     },
     "execution_count": 7,
     "metadata": {},
     "output_type": "execute_result"
    }
   ],
   "source": [
    "sess().calc_fpc(sess().get_pop(), sess().get_demand(), regress = False).describe()"
   ]
  },
  {
   "cell_type": "code",
   "execution_count": 8,
   "metadata": {
    "colab": {
     "base_uri": "https://localhost:8080/",
     "height": 541
    },
    "id": "L0TkB7nS7pIQ",
    "outputId": "8650b02f-2773-4886-ff2c-5e61c3108fed"
   },
   "outputs": [
    {
     "name": "stderr",
     "output_type": "stream",
     "text": [
      "/content/mexico_fuel_guided_project/modules/data.py:168: SettingWithCopyWarning: \n",
      "A value is trying to be set on a copy of a slice from a DataFrame.\n",
      "Try using .loc[row_indexer,col_indexer] = value instead\n",
      "\n",
      "See the caveats in the documentation: https://pandas.pydata.org/pandas-docs/stable/user_guide/indexing.html#returning-a-view-versus-a-copy\n",
      "  daily['date'] = pd.to_datetime(daily.date, format='%d/%m/%Y')\n"
     ]
    },
    {
     "data": {
      "text/html": [
       "<div>\n",
       "<style scoped>\n",
       "    .dataframe tbody tr th:only-of-type {\n",
       "        vertical-align: middle;\n",
       "    }\n",
       "\n",
       "    .dataframe tbody tr th {\n",
       "        vertical-align: top;\n",
       "    }\n",
       "\n",
       "    .dataframe thead th {\n",
       "        text-align: right;\n",
       "    }\n",
       "</style>\n",
       "<table border=\"1\" class=\"dataframe\">\n",
       "  <thead>\n",
       "    <tr style=\"text-align: right;\">\n",
       "      <th></th>\n",
       "      <th>date</th>\n",
       "      <th>state</th>\n",
       "      <th>price</th>\n",
       "    </tr>\n",
       "  </thead>\n",
       "  <tbody>\n",
       "    <tr>\n",
       "      <th>0</th>\n",
       "      <td>2017-01-01</td>\n",
       "      <td>Aguascalientes</td>\n",
       "      <td>17.162569</td>\n",
       "    </tr>\n",
       "    <tr>\n",
       "      <th>1</th>\n",
       "      <td>2017-01-01</td>\n",
       "      <td>Baja California</td>\n",
       "      <td>17.068158</td>\n",
       "    </tr>\n",
       "    <tr>\n",
       "      <th>2</th>\n",
       "      <td>2017-01-01</td>\n",
       "      <td>Baja California Sur</td>\n",
       "      <td>17.074159</td>\n",
       "    </tr>\n",
       "    <tr>\n",
       "      <th>3</th>\n",
       "      <td>2017-01-01</td>\n",
       "      <td>Campeche</td>\n",
       "      <td>16.626283</td>\n",
       "    </tr>\n",
       "    <tr>\n",
       "      <th>4</th>\n",
       "      <td>2017-01-01</td>\n",
       "      <td>Chiapas</td>\n",
       "      <td>16.827494</td>\n",
       "    </tr>\n",
       "    <tr>\n",
       "      <th>...</th>\n",
       "      <td>...</td>\n",
       "      <td>...</td>\n",
       "      <td>...</td>\n",
       "    </tr>\n",
       "    <tr>\n",
       "      <th>48635</th>\n",
       "      <td>2021-02-28</td>\n",
       "      <td>Tamaulipas</td>\n",
       "      <td>18.224781</td>\n",
       "    </tr>\n",
       "    <tr>\n",
       "      <th>48636</th>\n",
       "      <td>2021-02-28</td>\n",
       "      <td>Tlaxcala</td>\n",
       "      <td>19.576055</td>\n",
       "    </tr>\n",
       "    <tr>\n",
       "      <th>48637</th>\n",
       "      <td>2021-02-28</td>\n",
       "      <td>Veracruz de Ignacio de la Llave</td>\n",
       "      <td>19.635799</td>\n",
       "    </tr>\n",
       "    <tr>\n",
       "      <th>48638</th>\n",
       "      <td>2021-02-28</td>\n",
       "      <td>Yucatán</td>\n",
       "      <td>20.375743</td>\n",
       "    </tr>\n",
       "    <tr>\n",
       "      <th>48639</th>\n",
       "      <td>2021-02-28</td>\n",
       "      <td>Zacatecas</td>\n",
       "      <td>19.914063</td>\n",
       "    </tr>\n",
       "  </tbody>\n",
       "</table>\n",
       "<p>48640 rows × 3 columns</p>\n",
       "</div>"
      ],
      "text/plain": [
       "            date                            state      price\n",
       "0     2017-01-01                   Aguascalientes  17.162569\n",
       "1     2017-01-01                  Baja California  17.068158\n",
       "2     2017-01-01              Baja California Sur  17.074159\n",
       "3     2017-01-01                         Campeche  16.626283\n",
       "4     2017-01-01                          Chiapas  16.827494\n",
       "...          ...                              ...        ...\n",
       "48635 2021-02-28                       Tamaulipas  18.224781\n",
       "48636 2021-02-28                         Tlaxcala  19.576055\n",
       "48637 2021-02-28  Veracruz de Ignacio de la Llave  19.635799\n",
       "48638 2021-02-28                          Yucatán  20.375743\n",
       "48639 2021-02-28                        Zacatecas  19.914063\n",
       "\n",
       "[48640 rows x 3 columns]"
      ]
     },
     "execution_count": 8,
     "metadata": {},
     "output_type": "execute_result"
    }
   ],
   "source": [
    "sess().get_price_dataframe()"
   ]
  },
  {
   "cell_type": "code",
   "execution_count": 51,
   "metadata": {
    "scrolled": true
   },
   "outputs": [
    {
     "name": "stdout",
     "output_type": "stream",
     "text": [
      "Score: 0.8760367581634618\n"
     ]
    },
    {
     "name": "stderr",
     "output_type": "stream",
     "text": [
      "/content/mexico_fuel_guided_project/modules/data.py:168: SettingWithCopyWarning: \n",
      "A value is trying to be set on a copy of a slice from a DataFrame.\n",
      "Try using .loc[row_indexer,col_indexer] = value instead\n",
      "\n",
      "See the caveats in the documentation: https://pandas.pydata.org/pandas-docs/stable/user_guide/indexing.html#returning-a-view-versus-a-copy\n",
      "  daily['date'] = pd.to_datetime(daily.date, format='%d/%m/%Y')\n",
      "/content/mexico_fuel_guided_project/modules/data.py:168: SettingWithCopyWarning: \n",
      "A value is trying to be set on a copy of a slice from a DataFrame.\n",
      "Try using .loc[row_indexer,col_indexer] = value instead\n",
      "\n",
      "See the caveats in the documentation: https://pandas.pydata.org/pandas-docs/stable/user_guide/indexing.html#returning-a-view-versus-a-copy\n",
      "  daily['date'] = pd.to_datetime(daily.date, format='%d/%m/%Y')\n"
     ]
    }
   ],
   "source": [
    "df = sess().create_fuel_dataframe()"
   ]
  },
  {
   "cell_type": "code",
   "execution_count": 52,
   "metadata": {
    "scrolled": true
   },
   "outputs": [
    {
     "data": {
      "image/png": "[encoded data removed]",
      "text/plain": [
       "<Figure size 1296x864 with 2 Axes>"
      ]
     },
     "metadata": {
      "needs_background": "light"
     },
     "output_type": "display_data"
    }
   ],
   "source": [
    "sess().plot_monthly_data(df)"
   ]
  },
  {
   "cell_type": "markdown",
   "metadata": {},
   "source": [
    "# All done with shaping the dataset, see you on the next video where we will fit the machine learning model"
   ]
  },
  {
   "cell_type": "code",
   "execution_count": null,
   "metadata": {},
   "outputs": [],
   "source": []
  }
 ],
 "metadata": {
  "colab": {
   "authorship_tag": "ABX9TyMEsFpImDsrTOOf/Xy6Ezqn",
   "collapsed_sections": [],
   "include_colab_link": true,
   "name": "Untitled4.ipynb",
   "provenance": []
  },
  "kernelspec": {
   "display_name": "Python 3",
   "language": "python",
   "name": "python3"
  },
  "language_info": {
   "codemirror_mode": {
    "name": "ipython",
    "version": 3
   },
   "file_extension": ".py",
   "mimetype": "text/x-python",
   "name": "python",
   "nbconvert_exporter": "python",
   "pygments_lexer": "ipython3",
   "version": "3.6.9"
  }
 },
 "nbformat": 4,
 "nbformat_minor": 1
}
